{
 "cells": [
  {
   "cell_type": "markdown",
   "metadata": {},
   "source": [
    "\n",
    "# Assignment 2  \n",
    "# Asymptotic analysis and Divide and Conquer\n",
    "## NOHAN JOEMON CH19B072\n",
    "========================================================================================================================="
   ]
  },
  {
   "cell_type": "markdown",
   "metadata": {},
   "source": [
    "\n",
    "## Qn 1:\n",
    "\n",
    "#### Everywhere I assume log is to the base 2\n",
    "\n",
    "\n",
    "To compare asymptotic growth rate, we use big - O notation which is defined as follows\n",
    "(T(n) is the worst case runtime)\n",
    "<br>\n",
    "<B> T(n) = O(f(n)) ⇔ ∃ c , $n_0$ > 0 s.t. ∀ n ≥$n_0$ , T(n) ≤ c · f(n) </B>\n",
    "<br>ie,<br>\n",
    "T(n) scales like f(n)\n",
    "<br><br>\n",
    "<B>Main features in asymptotic notation:</B>\n",
    "<br><br>\n",
    "<B>1: suppressing constant factors:</B>\n",
    "<br>\n",
    "The constant factors  are system dependent. But in asymptotic analysis, we want a form which depends only on the implementation of the algorithm and not on where the algorithm is implemented. \n",
    "Therefore, constant factors should not be considered in asymptotic analysis\n",
    "<br><br>\n",
    "<B>2: suppress lower-order terms:</B>\n",
    "<br>\n",
    "In asymptotic analysis, we consider high input sizes(which may even be greater than actual input sizes). Therefore, lower order terms can be neglected.\n",
    "<br><br>\n",
    "<B>Using the above principles</B>, we can represent each function in big O notation\n",
    "<br><br>\n",
    "1: <B>$ 4nlogn + 2n $ = O(nlogn) </B>   [ neglecting lower order term:2n and constants 2 and 4 ]\n",
    "\n",
    "<br><br>\n",
    "2: <B>$ 2^{10} $  = O(1) </B>   [neglecting constant $2^{10}$]\n",
    "\n",
    "<br><br>\n",
    "3: <B>$ 2^{logn} $ = n = O(n)</B>  [no constants or lower order terms to neglect] - ASSUMPTION: log base=2\n",
    "\n",
    "<br><br>\n",
    "4: <B>$3n + 100logn$ = O(n)</B>  [neglecting lower order term:100logn and constants 3 and 100]\n",
    "\n",
    "<br><br>\n",
    "5: <B>$4n$ = O(n)</B>  [ neglecting constant 4 ]\n",
    "\n",
    "<br><br>\n",
    "6: <B>$2^{n}$= O($2^n$)</B>  [no constants or lower order terms to neglect]\n",
    "\n",
    "<br><br>\n",
    "7: <B>$n^2+10n$ = O($n^2$)</B>  [neglecting lower order term:10n]\n",
    "\n",
    "<br><br>\n",
    "8: <B>$n^3$ = O($n^3$)</B>  [no constants or lower order terms to neglect]\n",
    "\n",
    "<br><br>\n",
    "9: <B>$nlog(n)$ = O(n logn)</B>  [no constants or lower order terms to neglect]\n",
    "\n",
    "<br><br>\n",
    "Comparing bigO representations,  we have \n",
    "<B> O(1) < O(n) < O(nlog(n)) < O($n^2$) < O($n^3$) < O($2^n$) </B>\n",
    "  <br>  \n",
    "<B>Therefore, order of asymptotic growth rate is:\n",
    "   <br> \n",
    "($ 2^{10} $)  <  ($ 2^{logn} $)  =  ($3n + 100logn$)  =  ($4n$)  <  ($ 4nlogn + 2n $)  =  ($nlog(n)$)  <  ($n^2 + 10n$)  <  ($n^3$ ) <  ($2^{n}$) </B>\n",
    "    \n",
    "    \n",
    "    \n",
    "\n",
    "    \n",
    "========================================================================================================================="
   ]
  },
  {
   "cell_type": "markdown",
   "metadata": {},
   "source": [
    "\n",
    "\n",
    "\n",
    "## Qn 2:\n",
    "#### Everywhere I assume log is to the base 2\n",
    "## a) <B>f(n) = n−100 and g(n) = n−200 : f = Θ(g)</B>\n",
    "\n",
    "It is f = Θ(g): For that we need to prove f = O(g) and f = Ω(g)\n",
    "\n",
    "<B>To prove f = Ω(g):</B>\n",
    "\n",
    "We have to prove that  f(n) > = cg(n) for all  n>=n0 , where  c  and  n0  are positive constants.\n",
    "\n",
    "Assume  c = 0.25  and  n0 = 67.\n",
    "\n",
    "Clearly,\n",
    "    n-100 > = 0.25(n-200) for all n>=67\n",
    " \n",
    "Thus, from the definition of Big- Ω ,  f=Ω(g) .\n",
    "\n",
    "<B>To prove f = O(g):</B>\n",
    "\n",
    "We have to prove that f(n) < = cg(n) for all n>=n0, where c and n0 are positive constants.\n",
    "\n",
    "Assume c=2 and n0=300.\n",
    "\n",
    "Clearly,\n",
    "    n-100 < = 2(n-200) for all n>=300\n",
    "\n",
    "Thus, from the definition of Big-O, f=O(g)\n",
    "\n",
    "### verification using graphs"
   ]
  },
  {
   "cell_type": "code",
   "execution_count": 47,
   "metadata": {},
   "outputs": [
    {
     "data": {
      "text/plain": [
       "<function matplotlib.pyplot.show(*args, **kw)>"
      ]
     },
     "execution_count": 47,
     "metadata": {},
     "output_type": "execute_result"
    },
    {
     "data": {
      "image/png": "[encoded data removed]",
      "text/plain": [
       "<Figure size 432x288 with 1 Axes>"
      ]
     },
     "metadata": {
      "needs_background": "light"
     },
     "output_type": "display_data"
    }
   ],
   "source": [
    "# for proving f = Ω(g) ie f(n) >= c.g(n)\n",
    "import numpy as np\n",
    "import matplotlib.pyplot as plt\n",
    "\n",
    "n = np.linspace(1, 300, 100)\n",
    "plt.plot(n, n-100, label = \"f(n)\")\n",
    "plt.plot(n, 0.25*(n-200), label = \"cg(n)\") # c=0.25\n",
    "plt.legend()\n",
    "plt.show\n",
    "# Clearly, from the graph,  f(n) >= c.g(n)"
   ]
  },
  {
   "cell_type": "code",
   "execution_count": 20,
   "metadata": {},
   "outputs": [
    {
     "data": {
      "text/plain": [
       "<function matplotlib.pyplot.show(*args, **kw)>"
      ]
     },
     "execution_count": 20,
     "metadata": {},
     "output_type": "execute_result"
    },
    {
     "data": {
      "image/png": "[encoded data removed]",
      "text/plain": [
       "<Figure size 432x288 with 1 Axes>"
      ]
     },
     "metadata": {
      "needs_background": "light"
     },
     "output_type": "display_data"
    }
   ],
   "source": [
    "# for proving f = O(g) ie f(n) <= c.g(n)\n",
    "import numpy as np\n",
    "import matplotlib.pyplot as plt\n",
    "\n",
    "n = np.linspace(1, 1000, 100)\n",
    "plt.plot(n, n-100, label = \"f(n)\")\n",
    "plt.plot(n, 2*(n-200), label = \"cg(n)\") #c=2\n",
    "plt.legend()\n",
    "plt.show\n",
    "# Clearly, from the graph, f(n) <= c.g(n)"
   ]
  },
  {
   "cell_type": "markdown",
   "metadata": {},
   "source": [
    "## b) <B>f(n) = 100n + logn and g(n) = ${n + (logn)^2}$ : f = Θ(g) </B>\n",
    "\n",
    "It is f = Θ(g): For that we need to prove f = O(g) and f = Ω(g)\n",
    "\n",
    "<B>To prove  f=Ω(g):</B>\n",
    "\n",
    "We have to prove that  f(n)>=cg(n)  for all  n>=n0 , where  c  and  n0  are positive constants.\n",
    "\n",
    "Assume  c=1  and  n0=1\n",
    "\n",
    "Clearly,\n",
    "    100n + logn > = (${n + (logn)^2}$) for all n>=1 (The reason is not very straightforward, therefore, it is better to use graph to check it)\n",
    " \n",
    "Thus, from the definition of Big- Ω ,  f=Ω(g) .\n",
    "\n",
    "<B>To prove f = O(g):</B>\n",
    "\n",
    "We have to prove that f(n) < = cg(n) for all n>=n0, where c and n0 are positive constants.\n",
    "\n",
    "Assume c=100 and n0=2.\n",
    "\n",
    "Clearly,\n",
    "    100n + logn < = 100(${n + (logn)^2}$) for all n>=2 (Because 100${(logn)^2}$ > logn for all logn>1 ie n>2 )\n",
    "\n",
    "Thus, from the definition of Big-O, f=O(g)\n",
    "### verification using graphs"
   ]
  },
  {
   "cell_type": "code",
   "execution_count": 49,
   "metadata": {},
   "outputs": [
    {
     "data": {
      "text/plain": [
       "<function matplotlib.pyplot.show(*args, **kw)>"
      ]
     },
     "execution_count": 49,
     "metadata": {},
     "output_type": "execute_result"
    },
    {
     "data": {
      "image/png": "[encoded data removed]",
      "text/plain": [
       "<Figure size 432x288 with 1 Axes>"
      ]
     },
     "metadata": {
      "needs_background": "light"
     },
     "output_type": "display_data"
    }
   ],
   "source": [
    "# for proving f = Ω(g) ie f(n) >= c.g(n)\n",
    "n = np.linspace(1, 10,10)\n",
    "f = 100*n + np.log2(n)\n",
    "g = (n + np.log2(n)*np.log2(n))\n",
    "plt.plot(n, f, label = \"f(n)\")\n",
    "plt.plot(n, g, label = \"cg(n)\") # c = 1\n",
    "plt.legend()\n",
    "plt.show\n",
    "# Clearly, from the graph,  f(n) >= c.g(n)"
   ]
  },
  {
   "cell_type": "code",
   "execution_count": 21,
   "metadata": {},
   "outputs": [
    {
     "data": {
      "text/plain": [
       "<function matplotlib.pyplot.show(*args, **kw)>"
      ]
     },
     "execution_count": 21,
     "metadata": {},
     "output_type": "execute_result"
    },
    {
     "data": {
      "image/png": "[encoded data removed]",
      "text/plain": [
       "<Figure size 432x288 with 1 Axes>"
      ]
     },
     "metadata": {
      "needs_background": "light"
     },
     "output_type": "display_data"
    }
   ],
   "source": [
    "# for proving f = O(g) ie f(n) <= c.g(n)\n",
    "n = np.linspace(1, 50, 100)\n",
    "f = 100*n + np.log2(n)\n",
    "g = 100*(n + np.log2(n)*np.log2(n)) # c = 100\n",
    "plt.plot(n, f, label = \"f(n)\")\n",
    "plt.plot(n, g, label = \"cg(n)\") \n",
    "plt.legend()\n",
    "plt.show\n",
    "# Clearly, from the graph, f(n) <= c.g(n)"
   ]
  },
  {
   "cell_type": "markdown",
   "metadata": {},
   "source": [
    "## c) <B>f(n)=log(2n)  and  g(n)=log(3n) : f = Θ(g) </B>\n",
    "It is f = Θ(g): For that we need to prove f = O(g) and f = Ω(g)\n",
    "\n",
    "<B>To prove  f=Ω(g):</B>\n",
    "\n",
    "We have to prove that  f(n)>=cg(n)  for all  n>=n0 , where  c  and  n0  are positive constants.\n",
    "\n",
    "Assume  c=0.5  and  n0=1\n",
    "\n",
    "Clearly,\n",
    "    log(2n)  > = 0.5log(3n) for all n>=1\n",
    "    (Because 2log(2n)=log(${4n^2}$)>log(3n) for all n>=1)\n",
    " \n",
    "Thus, from the definition of Big- Ω ,  f=Ω(g) .\n",
    "\n",
    "<B>To prove f = O(g):</B>\n",
    "\n",
    "We have to prove that f(n) < = cg(n) for all n>=n0, where c and n0 are positive constants.\n",
    "\n",
    "Assume c=1 and n0=1.\n",
    "\n",
    "Clearly,\n",
    "    log(2n)  < = log(3n) for all n>=1\n",
    "\n",
    "Thus, from the definition of Big-O, f = O(g)\n",
    "### verification using graphs"
   ]
  },
  {
   "cell_type": "code",
   "execution_count": 51,
   "metadata": {},
   "outputs": [
    {
     "data": {
      "text/plain": [
       "<function matplotlib.pyplot.show(*args, **kw)>"
      ]
     },
     "execution_count": 51,
     "metadata": {},
     "output_type": "execute_result"
    },
    {
     "data": {
      "image/png": "[encoded data removed]",
      "text/plain": [
       "<Figure size 432x288 with 1 Axes>"
      ]
     },
     "metadata": {
      "needs_background": "light"
     },
     "output_type": "display_data"
    }
   ],
   "source": [
    "# for proving f = Ω(g) ie f(n) >= c.g(n)\n",
    "n = np.linspace(1, 50, 100)\n",
    "f = np.log2(2*n)\n",
    "g = 0.5*np.log2(3*n) # c = 0.5\n",
    "plt.plot(n, f, label = \"f(n)\")\n",
    "plt.plot(n, g, label = \"cg(n)\")\n",
    "plt.legend()\n",
    "plt.show\n",
    "# Clearly, from the graph, f(n) >= c.g(n)"
   ]
  },
  {
   "cell_type": "code",
   "execution_count": 22,
   "metadata": {},
   "outputs": [
    {
     "data": {
      "text/plain": [
       "<function matplotlib.pyplot.show(*args, **kw)>"
      ]
     },
     "execution_count": 22,
     "metadata": {},
     "output_type": "execute_result"
    },
    {
     "data": {
      "image/png": "[encoded data removed]",
      "text/plain": [
       "<Figure size 432x288 with 1 Axes>"
      ]
     },
     "metadata": {
      "needs_background": "light"
     },
     "output_type": "display_data"
    }
   ],
   "source": [
    "# for proving f = O(g) ie f(n) <= c.g(n)\n",
    "n = np.linspace(1, 50, 100)\n",
    "f = np.log2(2*n)\n",
    "g = np.log2(3*n) # c = 1\n",
    "plt.plot(n, f, label = \"f(n)\")\n",
    "plt.plot(n, g, label = \"cg(n)\")\n",
    "plt.legend()\n",
    "plt.show\n",
    "# Clearly, from the graph, f(n) <= c.g(n)"
   ]
  },
  {
   "cell_type": "markdown",
   "metadata": {},
   "source": [
    "## d) <B>f(n)=${n^{1.01})}$  and  g(n)=${n(log(n))^2}$ : f = Ω(g) </B>\n",
    "\n",
    "It is f = Ω(g).  For that we need to prove f ≠ O(g) and f = Ω(g)\n",
    "\n",
    "<B>To prove  f = Ω(g):</B>\n",
    "\n",
    "We have to prove that  f(n)>=cg(n)  for all  n>=n0 , where  c  and  n0  are positive constants.\n",
    "\n",
    "Assume  c=0.00005  and  n0=1\n",
    "\n",
    "Clearly,\n",
    "    ${n^{1.01}}$  > = 0.00005${n(log(n))^2}$ for all n>=1\n",
    "    (The reason is not very straightforward, therefore, it is better to use graph to check it)\n",
    " \n",
    "Thus, from the definition of Big- Ω ,  f=Ω(g) .\n",
    "\n",
    "<B>To prove  f ≠ O(g): </B>\n",
    "We have to prove that there are no possible values of positive constants  c  and  n0  such that  f(n) < = cg(n)  for all  n>=n0 \n",
    "\n",
    "Let us assume that there exists positive constants  c  and  n0  such that  f(n) < = cg(n)  for all  n>=n0 \n",
    "\n",
    "Then,\n",
    "\n",
    "${cn(logn)^2 - n^{1.01} >= 0}$\n",
    "\n",
    "${c >= \\frac{n^{0.01}}{(logn)^2}}$\n",
    "\n",
    "That is, ${ k(n) = \\frac{n^{0.01}}{(logn)^2}}$ has c as its upper bound\n",
    "\n",
    "However,${ \\lim_{n \\to +\\infty} k(n)  = \\infty }$, and therefore, upper bound of k(n) is not c\n",
    "\n",
    "Hence, our assumption is wrong\n",
    "\n",
    "Hence, f ≠ O(g)"
   ]
  },
  {
   "cell_type": "code",
   "execution_count": 59,
   "metadata": {},
   "outputs": [
    {
     "data": {
      "text/plain": [
       "<function matplotlib.pyplot.show(*args, **kw)>"
      ]
     },
     "execution_count": 59,
     "metadata": {},
     "output_type": "execute_result"
    },
    {
     "data": {
      "image/png": "[encoded data removed]",
      "text/plain": [
       "<Figure size 432x288 with 1 Axes>"
      ]
     },
     "metadata": {
      "needs_background": "light"
     },
     "output_type": "display_data"
    }
   ],
   "source": [
    "# for proving f = Ω(g) ie f(n) >= c.g(n)\n",
    "n = np.linspace(1, 20, 100)\n",
    "f = np.power(n, 1.01)\n",
    "g = (0.00005)*(n*np.log2(n)*np.log2(n)) # c = 0.00005\n",
    "plt.plot(n, f, label = \"f(n)\")\n",
    "plt.plot(n, g, label = \"cg(n)\")\n",
    "plt.legend()\n",
    "plt.show\n",
    "# Clearly, from the graph,f(n) >= c.g(n)\n",
    "# There is no graphical way to verify that f ≠ O(g), but the mathematical proof itself is strong  "
   ]
  },
  {
   "cell_type": "markdown",
   "metadata": {},
   "source": [
    "=========================================================================================================================\n",
    "## Qn 3:\n",
    "\n",
    "To find 10 largest elements in a sequence of size n, we can sort it using mergesort and then select first 10 elements. But, this would have time complexity O(nlogn).\n",
    "\n",
    "So, instead we can just do a linear search which is of time complexity O(n). Hence, I am using an algorithm that does a linear search 10 times.\n",
    "\n",
    "### PSEUDO CODE:\n",
    "\n",
    "(We have an array \"a\" of n numbers. We need to return an array \"maxi\" of 10 largest numbers of \"a\").   \n",
    "1: Loop 10 times through the array \"a\" with each iteration identified by the value of i (ranging from 0 to 9)      \n",
    "2: For each iteration i,       \n",
    "    \n",
    "    [\n",
    "    \n",
    "    1: Assume the first element of \"a\" as the largest element and store its value in maxi[i]\n",
    "\n",
    "    2: Loop through each item of the array \"a\"(each item identified by the variable \"item\"):\n",
    "    \n",
    "        [\n",
    "        \n",
    "        1: if item>maxi[i], \n",
    "        \n",
    "            then maxi[i]=item\n",
    "            \n",
    "        2: go to next item\n",
    "        \n",
    "        ]\n",
    "\n",
    "    3: Now, delete the element obtained as maxi[i] from the array \"a\"\n",
    "    \n",
    "    ]\n",
    "\n",
    "3: After 10 iterations, we get maxi as the required list of 10 largest numbers\n",
    "\n",
    "    \n",
    "Note that in each iteration i, we delete one value from the array \"a\" (which is the largest element of \"a\" at that iteration), so that in the next iteration, we get the next largest value in the array. Therefore, \"a\" is getting modified\n",
    "\n",
    "### RUNTIME:\n",
    "(n = number of elements in the array \"a\")\n",
    "\n",
    "We traverse  10 times through the array.\n",
    "\n",
    "Each time the number of elements of the array decreases by one. \n",
    "\n",
    "Therefore, number of elements visited = n + (n-1) +(n-2) + ...... + (n-9) = 10n-45.\n",
    "\n",
    "The runtime is of the order <B>O(n)</B> as constants and lower order terms doesnt matter in asymptotic analysis\n",
    "\n",
    "(*NOTE: To find the largest number from an unsorted sequence, we need to traverse through the entire list atleast one time. Hence, the runtime of the algorithm is atleast of the order O(n). Hence, the runtime for finding 10 largest numbers is also atleast O(n).\n",
    "In practice, there are algorithms better than linear search to find the 10 largest numbers. However, we are considering asymptotic analysis for comparison, and therefore every algorithm of the order O(n) is considered as equal. )\n",
    "\n",
    "### PYTHON CODE IMPLEMENTATION"
   ]
  },
  {
   "cell_type": "code",
   "execution_count": 7,
   "metadata": {},
   "outputs": [
    {
     "name": "stdout",
     "output_type": "stream",
     "text": [
      "The given array is [21.3, 27, 562.9, 7, -4, -37, 5, 82.6, 7, 27, 77, 101, -71]\n",
      "The ten largest elements in the array is [562.9, 101, 82.6, 77, 27, 27, 21.3, 7, 7, 5]\n",
      "\n",
      "Enter number of elements(should be greater than 10) : 12\n",
      "Enter value:22\n",
      "Enter value:12\n",
      "Enter value:34\n",
      "Enter value:44\n",
      "Enter value:-3\n",
      "Enter value:0.3\n",
      "Enter value:-32\n",
      "Enter value:-32\n",
      "Enter value:-43\n",
      "Enter value:90\n",
      "Enter value:23.4\n",
      "Enter value:46\n",
      "The ten largest elements in the array is [90.0, 46.0, 44.0, 34.0, 23.4, 22.0, 12.0, 0.3, -3.0, -32.0]\n"
     ]
    }
   ],
   "source": [
    "def ten_largest(a):   \n",
    "    maxi=[]     # maxi stores the resulting list of 10 largest elements\n",
    "    for i in range(10):  # Iterating 10 times through the array\n",
    "        maxi.append(a[0]) # We assume the first element as the largest element and store it in maxi[i]\n",
    "        for item in a:   # iterating through each item of the array\n",
    "            if(item>maxi[i]): # Updating the value of maxi[i] if any item is found larger than maxi[i]\n",
    "                maxi[i]=item\n",
    "        a.remove(maxi[i])   # Removing the element maxi[i] from a so that next iteration gives NEXT largest value \n",
    "    return maxi\n",
    "\n",
    "#========TESTING===========================================================================================================\n",
    "\n",
    "# provided test array:\n",
    "arr=[21.3,27,562.9,7,-4,-37,5,82.6,7,27,77,101,-71] # This is the test array\n",
    "arr_org=arr[:] # We make a copy of the original contents of the array in case we need it later\n",
    "print(\"The given array is\",arr)\n",
    "print(\"The ten largest elements in the array is\",ten_largest(arr))\n",
    "\n",
    "\n",
    "# user-input test array:\n",
    "lst = [] \n",
    "n = int(input(\"\\nEnter number of elements(should be greater than 10) : \")) \n",
    "for i in range(0, n): \n",
    "    ele = float(input(\"Enter value:\"))\n",
    "    lst.append(ele) # adding the element \n",
    "lst_org=lst[:] # We make a copy of the original contents of the array in case we need it later\n",
    "print(\"The ten largest elements in the array is\",ten_largest(lst))\n",
    "\n",
    "#=========================================================================================================================="
   ]
  },
  {
   "cell_type": "markdown",
   "metadata": {},
   "source": [
    "=========================================================================================================================\n",
    "## Qn 4: \n",
    "We can use divide and conquer strategy to multiply two numbers. In this case, we particularly use Karatsuba's algorithm for better efficiency\n",
    "\n",
    "### Explaining karatsuba algorithm\n",
    "\n",
    "The numbers to be multiplied(x and y) are taken as input by the multiply_karat function.\n",
    "\n",
    "If the numbers to be multiplied are single digit numbers, then the multiplication is trivial and the result is returned. \n",
    "\n",
    "If not, then each number is split as follows.\n",
    "\n",
    "x = a.${2^{n/2}}$ + b\n",
    "\n",
    "y = c.${2^{n/2}}$ + d\n",
    "\n",
    "Next, we find ac, bd and (a + b)(c + d) by recursive calls of the same function\n",
    "\n",
    "Finally, we find the result as  (ac).${2^n}$ + ((a + b)(c + d) - ac - bd).${2^{n/2}}$ + bd (Karatsuba 's method)\n",
    "\n",
    "NOTE: The output of the multiply_karat function will be in the decimal format (as, in Python, this is the default output type even for binary operations). So, this is converted into binary format using bin() while printing the answer out.\n",
    "\n",
    "\n",
    "### Karatsuba implementation manually\n",
    "Given below is a manual explanation of what happens inside the algorithm:\n",
    "\n",
    "We need to multiply 10011011 and 10111010 (n=8)\n",
    "\n",
    "10011011 = 1001.${2^4}$ + 1011\n",
    "[Here, a = 1001, b = 1011    (a + b = 10100)]\n",
    "\n",
    "10111010 = 1011.${2^4}$ + 1010\n",
    "[Here, c = 1011, d = 1010    (c + d = 10101)]\n",
    "\n",
    "ac = 1001 x 1011\n",
    "\n",
    "bd = 1011 x 1010\n",
    "\n",
    "ad + bc = (a + b) x (c + d) - ac - bd = (10100 x 10101) - (1001 x 1011) - (1011 x 1010)\n",
    "\n",
    "We have, 10011011 x 10111010 = (ac).${2^8}$ + (ad + bc).${2^4}$ + bd\n",
    "\n",
    "= (1001 x 1011).${2^8}$ + ((10100 x 10101) - (1001 x 1011) - (1011 x 1010)).${2^4}$ + (1011 x 1010)\n",
    "\n",
    "Clearly, we have three multiplication steps in the above equation: which are: 1001 x 1011, 10100 x 10101 and 1011 x 1010\n",
    "\n",
    "Therefore, we have three multiplications to perform recursively in the next step. This recursive multiplication goes on until it becomes one-digit multiplication and then they are combined to form the final answer\n",
    "\n",
    "### Karatsuba implementation in Python"
   ]
  },
  {
   "cell_type": "code",
   "execution_count": 17,
   "metadata": {},
   "outputs": [
    {
     "name": "stdout",
     "output_type": "stream",
     "text": [
      "Product in binary: 0b111000010011110\n"
     ]
    }
   ],
   "source": [
    "def multiply_karat(x,y):\n",
    "    n = max(len(str(x)),len(str(y))) # finds the maximum no of digits of the two input numbers  \n",
    "    \n",
    "# If the numbers to be multiplied are single digit numbers, then the multiplication is trivial and the result is returned. \n",
    "    if n<=1:\n",
    "        return x*y\n",
    "    \n",
    "# If not single digit numbers, then each number is split into two \n",
    "# and then we find ac, bd and(a + b)(c + d) using recursive calls of multiply_karat\n",
    "    a = x//(2**(n//2))\n",
    "    b = x%(2**(n//2))\n",
    "    c = y//(2**(n//2))\n",
    "    d = y%(2**(n//2))\n",
    "    ac = multiply_karat(a,c)\n",
    "    bd = multiply_karat(b,d) \n",
    "    aplusb_into_cplusd = multiply_karat(a+b,c+d)\n",
    "    \n",
    "# Finally, we find the result as (ac). 2^𝑛  + ((a + b)(c + d) - ac - bd). 2^(𝑛/2)  + bd (Karatsuba 's method)\n",
    "# Note: we use 2**(2*(n//2)) instead of doing 2**n directly because 2**n leads to unexpected results when n is odd\n",
    "\n",
    "    return ((ac*(2**(2*(n//2))) + ((aplusb_into_cplusd-ac-bd)*(2**(n//2))) + bd))\n",
    "print(\"Product in binary:\", bin(multiply_karat(0b10011011, 0b10111010)))\n"
   ]
  },
  {
   "cell_type": "markdown",
   "metadata": {},
   "source": [
    "=========================================================================================================================\n",
    "\n",
    "\n",
    "## Qn 5:\n",
    "\n",
    "Aim is to make an algorithm which finds the largest element of a unimodal array in  O(logn)  time. \n",
    "It is a unimodal array(An array is called unimodal iff it can be split into an increasing sequence followed by a decreasing sequence).\n",
    "\n",
    "<B>Main property: If we are able to find an element which is larger than the element before it and after it, then that element is the largest element</B>. Since the elements are distinct, there will be only one largest value\n",
    "\n",
    "### Description of the algorithm\n",
    "The algorithm has been implemented using divide-and-conquer. \n",
    "\n",
    "In each iteration of the algorithm, the algorithm compares the value at the middle of the array(arr[mid]) with the value before it(arr[mid-1]) and the value after it(arr[mid+1].\n",
    "\n",
    "1: If arr[mid-1] is smaller and arr[mid+1] is larger, then clearly this is the increasing part of the array and the largest element is to the right of arr[mid]. \n",
    "\n",
    "2: If arr[mid-1] is larger and arr[mid+1] is smaller, then clearly this is the descending part of the array and the largest element is to the left of arr[mid]. \n",
    "\n",
    "3: If both arr[mid-1] and arr[mid+1] are smaller than arr[mid], then arr[mid] is the largest element\n",
    "\n",
    "In either of the cases 1 and 2, the part of the array containing the largest element is passed on for the next iteration of the function. This is repeated till the largest element is found.\n",
    "\n",
    "### Runtime\n",
    "\n",
    "In each iteration, we find the middle value and compare the value with value before it and the value after it and return only one half of the original array(in the worst case).\n",
    "\n",
    "Since we use recursion and return half of the array each time, it is of O(logn) [log is of base 2]\n",
    "\n",
    "### Implementation in python"
   ]
  },
  {
   "cell_type": "code",
   "execution_count": 24,
   "metadata": {},
   "outputs": [
    {
     "name": "stdout",
     "output_type": "stream",
     "text": [
      "The given array is [1, 2, 3, 4, 5, 6, 8, 10, 45, 43, 21, 20, 5, -2]\n",
      "Thelargest element in the unimodal array is 45\n",
      "\n",
      "Enter number of elements of the unimodal array : 7\n",
      "Enter value: 0\n",
      "Enter value: 0.3\n",
      "Enter value: 4\n",
      "Enter value: 5\n",
      "Enter value: -4\n",
      "Enter value: -5.4\n",
      "Enter value: -10\n",
      "The largest element in the unimodal array is 5.0\n"
     ]
    }
   ],
   "source": [
    "# L represents the starting index of the array(or the subarray) to be scanned and R represents the last index of the array\n",
    "# arr is the array which is passed on to the largest_search function in each iteration. \n",
    "# In each iteration, a subarray of the original unimodal array is passed on to largest_search\n",
    "\n",
    "def largest_search(L,R, arr):\n",
    "    \n",
    "# L==R means length of the array becomes 1 i.e, clearly there is only one element remaining \n",
    "# and this is guaranteed to be the largest element\n",
    "    if L == R:\n",
    "        return arr[L]\n",
    "    \n",
    "# if the length of the array is 2, then either the first or second element has to be the largest \n",
    "# the following two if  statements check for the larger element and returns it\n",
    "    elif R == L + 1:\n",
    "        if arr[L] < arr[R]:\n",
    "            return arr[R]\n",
    "        if arr[L] > arr[R]:\n",
    "            return arr[L]\n",
    "    \n",
    "# for all other cases, the following sequence gets executed.\n",
    "# mid is the index of the middle value\n",
    "    else:\n",
    "        mid = (L + R)//2\n",
    "\n",
    "    # If both arr[mid-1] and arr[mid+1] are smaller than arr[mid], then it is the largest element  \n",
    "        if arr[mid] > arr[mid - 1] and arr[mid] > arr[mid + 1]:\n",
    "            return arr[mid]\n",
    "\n",
    "    #  If arr[mid-1] is smaller and arr[mid+1] is larger, \n",
    "    # then clearly this is the increasing part of the array and the largest element is to the right of arr[mid]. \n",
    "        elif arr[mid] > arr[mid - 1] and arr[mid] < arr[mid + 1]:\n",
    "            return largest_search(mid + 1, R, arr)\n",
    "\n",
    "    # if the above two statements are false, it means arr[mid-1] is larger and arr[mid+1] is smaller, \n",
    "    # then clearly this is the decreasing part of the array and the largest element is to the left of arr[mid]. \n",
    "        else:\n",
    "            return largest_search(L, mid - 1, arr)\n",
    "\n",
    "# ===============  TESTING ===============================================================================================\n",
    "# provided test array\n",
    "arr=[1,2,3,4,5,6,8,10,45,43,21,20,5,-2] # This is the test unimodal array\n",
    "print(\"The given array is\",arr)\n",
    "print(\"Thelargest element in the unimodal array is\",largest_search(0,len(arr)-1,arr))\n",
    "\n",
    "# user-input test array\n",
    "lst=[] \n",
    "n = int(input(\"\\nEnter number of elements of the unimodal array : \")) \n",
    "for i in range(0, n): \n",
    "    ele = float(input(\"Enter value: \"))\n",
    "    lst.append(ele) # adding the element \n",
    "print(\"The largest element in the unimodal array is\",largest_search(0,len(lst)-1,lst))"
   ]
  },
  {
   "cell_type": "markdown",
   "metadata": {},
   "source": [
    "=========================================================================================================================\n",
    "\n",
    "## Qn 6: \n",
    "##### In the question it is not mentioned whether we should preserve the order of the array, hence I am assuming that order preservation is not required  and therefore the algorithm I am providing sorts the array along with removing duplicates.\n",
    "I am using an algorithm which uses the divide and conquer principle. Actually, the provided algorithm is just a simple modification of MergeSort algorithm. We can modify the mergesort algorithm by adding an extra condition to remove duplicates. \n",
    "\n",
    "### Explanation of the algorithm:<br>\n",
    "The given array is passed to the merge_sort function. \n",
    "<br><br>\n",
    "<B>mergesort function</B>:\n",
    "    The array is split into two halves - (these halves are unequal if the number of elements of the array is odd) - and each half is passed through the mergesort function recursively.Finally, after many recursions, we end up with arrays of length1. Then we pass those values to the merge function.\n",
    "<br><br>    \n",
    "<B>merge function</B>:\n",
    "    The merge function combines the arrays of length 1 to form arrays of length 2 and so on until we get back a single array. During this process, the merge function traverses through both the subarrays being merged, similar to the MergeSort algorithm. However, whenever the merge function finds elements that are common to both the subarrays, the common element is added only once to the merged array.\n",
    " <br><br>  \n",
    "Here, the subarrays are themselves already sorted and already the duplicates are removed as well, so there is no possibility that an element is repeated in the same subarray\n",
    "<br>\n",
    "Finally, after merging all elements, we obtain a new array which is sorted without duplicates.\n",
    "<br>\n",
    "<br>\n",
    "<B> Explanation of the running time: </B>\n",
    "<br><br>\n",
    "It is known that mergesort algorithm has time complexity O(n logn) - ( It can be proved just like any divide-and-conquer algorithm ). \n",
    "\n",
    "In this algorithm, we just add a single step modification which is of time complexity O(1) to the merge function in mergesort algorithm. Therefore, this algorithm also has same complexity as mergesort, which is <B>O(n logn)</B>\n",
    "\n",
    "### Python implementation"
   ]
  },
  {
   "cell_type": "code",
   "execution_count": 26,
   "metadata": {},
   "outputs": [
    {
     "name": "stdout",
     "output_type": "stream",
     "text": [
      "array without duplicates= [5, 6, 7, 11, 12, 13]\n",
      "\n",
      "Enter number of elements of the array : 7\n",
      "Enter value: 2\n",
      "Enter value: 2\n",
      "Enter value: 2\n",
      "Enter value: 1\n",
      "Enter value: 4\n",
      "Enter value: 5\n",
      "Enter value: 5\n",
      "array without duplicates= [1.0, 2.0, 4.0, 5.0]\n"
     ]
    }
   ],
   "source": [
    "# The merge function combines the arrays of length 1 to form arrays of length 2 and so on until we get back a single array.\n",
    "# During this process, the merge function traverses through both the subarrays being merged, similar to the MergeSort algorithm. \n",
    "# However, whenever the merge function finds elements that are common to both the subarrays,\n",
    "# the common element is added only once to the merged array. \n",
    "def merge(L, R):\n",
    "    arr = []\n",
    "    n = len(L) + len(R)\n",
    "    i = 0\n",
    "    j = 0\n",
    "    for k in range(n):\n",
    "        while i < len(L) and j < len(R):\n",
    "            \n",
    "            if L[i] < R[j]:\n",
    "                arr.append(L[i])\n",
    "                i += 1\n",
    "            #========This is the extra step========\n",
    "# Whenever there is a common element in L and R, that element is appended once, and we increase BOTH i and j so that \n",
    "# the index of  L moves to next element in L and the index of  R moves to next element in R.\n",
    "# So, the common value is eliminated from the list\n",
    "# [Note that in the other expressions in the conditional statement(ie, less than case and more than case),\n",
    "# we increment only one index, acc to which element is smaller.\n",
    "# Hence the other element can still be there in unsorted subarray] \n",
    "            elif L[i] == R[j]:   \n",
    "                arr.append(L[i])\n",
    "                i += 1\n",
    "                j += 1\n",
    "                \n",
    "            #======================================\n",
    "            else:\n",
    "                arr.append(R[j])\n",
    "                j += 1\n",
    "\n",
    "        while i < len(L):\n",
    "            arr.append(L[i])\n",
    "            i += 1\n",
    "\n",
    "        while j < len(R):\n",
    "            arr.append(R[j])\n",
    "            j += 1\n",
    "            \n",
    "    return arr\n",
    "\n",
    "# The array is split into two halves - (these halves are unequal if the number of elements of the array is odd) - \n",
    "# and each half is passed through the mergesort function recursively.\n",
    "# Finally, after many recursions, we end up with arrays of length1. Then we pass those values to the merge function.\n",
    "def merge_sort(arr):\n",
    "    if len(arr) <= 1:\n",
    "        return arr\n",
    "    n=len(arr)\n",
    "    m = n//2\n",
    "    l = merge_sort(arr[0:m])\n",
    "    r = merge_sort(arr[m:n])\n",
    "    return merge(l, r)\n",
    "\n",
    "# ================================= TESTING ============================================================================\n",
    "\n",
    "# provided test array\n",
    "arr = [12, 11, 13, 11, 5, 6, 7, 7]\n",
    "print(\"array without duplicates=\",merge_sort(arr))\n",
    "\n",
    "# user-input test array\n",
    "lst=[] \n",
    "n = int(input(\"\\nEnter number of elements of the array : \")) \n",
    "for i in range(0, n): \n",
    "    ele = float(input(\"Enter value: \"))\n",
    "    lst.append(ele) # adding the element \n",
    "print(\"array without duplicates=\",merge_sort(lst))\n",
    "\n",
    "# ======================================================================================================================="
   ]
  },
  {
   "cell_type": "markdown",
   "metadata": {},
   "source": [
    "================================================= END ==========================================================="
   ]
  }
 ],
 "metadata": {
  "kernelspec": {
   "display_name": "Python 3",
   "language": "python",
   "name": "python3"
  },
  "language_info": {
   "codemirror_mode": {
    "name": "ipython",
    "version": 3
   },
   "file_extension": ".py",
   "mimetype": "text/x-python",
   "name": "python",
   "nbconvert_exporter": "python",
   "pygments_lexer": "ipython3",
   "version": "3.7.6"
  }
 },
 "nbformat": 4,
 "nbformat_minor": 4
}
