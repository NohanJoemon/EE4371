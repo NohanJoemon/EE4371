{
 "cells": [
  {
   "cell_type": "markdown",
   "metadata": {},
   "source": [
    "   # EE4371\n",
    "\n",
    "# ASSIGNMENT 1 - Python Fundamentals\n",
    "### Nohan Joemon  CH19B072"
   ]
  },
  {
   "cell_type": "markdown",
   "metadata": {},
   "source": [
    "Q1\n",
    "(a) Write a Python function that takes a positive integer n, and returns the sum of the squares of all\n",
    "the positive integers smaller than n"
   ]
  },
  {
   "cell_type": "code",
   "execution_count": 7,
   "metadata": {},
   "outputs": [
    {
     "name": "stdout",
     "output_type": "stream",
     "text": [
      "Enter the value of n:6\n",
      "55\n"
     ]
    }
   ],
   "source": [
    "def sum_squares():\n",
    "    n=int(input(\"Enter the value of n:\"))\n",
    "    sum=0\n",
    "    for i in range(n):\n",
    "        sum=sum+i*i\n",
    "    print(sum) \n",
    "    \n",
    "sum_squares()"
   ]
  },
  {
   "cell_type": "markdown",
   "metadata": {},
   "source": [
    "Q1 (b) Write a Python function that takes a positive integer n, and returns the sum of the squares of all\n",
    "the odd positive integers smaller than n"
   ]
  },
  {
   "cell_type": "code",
   "execution_count": 9,
   "metadata": {},
   "outputs": [
    {
     "name": "stdout",
     "output_type": "stream",
     "text": [
      "Enter the value of n:6\n",
      "35\n"
     ]
    }
   ],
   "source": [
    "def sum_odd_squares():\n",
    "    n=int(input(\"Enter the value of n:\"))\n",
    "    sum=0\n",
    "    for i in range(1,n,2):\n",
    "        sum=sum+i*i\n",
    "    print(sum) \n",
    "    \n",
    "sum_odd_squares()"
   ]
  },
  {
   "cell_type": "markdown",
   "metadata": {},
   "source": [
    "Q2\n",
    "What parameter values should be sent to the range constructor to produce a range with values:\n"
   ]
  },
  {
   "cell_type": "markdown",
   "metadata": {},
   "source": [
    "(a) 60,70,80\n"
   ]
  },
  {
   "cell_type": "markdown",
   "metadata": {},
   "source": [
    "ANS: range(60,90,10)\n"
   ]
  },
  {
   "cell_type": "markdown",
   "metadata": {},
   "source": [
    "(b) 4,2,0,-2,-4\n"
   ]
  },
  {
   "cell_type": "markdown",
   "metadata": {},
   "source": [
    "ANS: range(4,,-5,-2)"
   ]
  },
  {
   "cell_type": "markdown",
   "metadata": {},
   "source": [
    "SOLUTIONS"
   ]
  },
  {
   "cell_type": "code",
   "execution_count": 3,
   "metadata": {},
   "outputs": [
    {
     "name": "stdout",
     "output_type": "stream",
     "text": [
      "60\n",
      "70\n",
      "80\n"
     ]
    }
   ],
   "source": [
    "for i in range(60,90,10):\n",
    "    print(i)"
   ]
  },
  {
   "cell_type": "code",
   "execution_count": 4,
   "metadata": {},
   "outputs": [
    {
     "name": "stdout",
     "output_type": "stream",
     "text": [
      "4\n",
      "2\n",
      "0\n",
      "-2\n",
      "-4\n"
     ]
    }
   ],
   "source": [
    "for i in range(4,-5,-2):\n",
    "    print(i)"
   ]
  },
  {
   "cell_type": "markdown",
   "metadata": {},
   "source": [
    "Q3\n",
    "Write a Python function that takes a sequence of integer values and determines if there is a distinct pair of\n",
    "numbers in the sequence whose product is odd"
   ]
  },
  {
   "cell_type": "code",
   "execution_count": 10,
   "metadata": {},
   "outputs": [
    {
     "name": "stdout",
     "output_type": "stream",
     "text": [
      "Enter the number of elements of the array: 5\n",
      "Enter value 1: 2\n",
      "Enter value 2: 3\n",
      "Enter value 3: 4\n",
      "Enter value 4: 5\n",
      "Enter value 5: 6\n"
     ]
    },
    {
     "data": {
      "text/plain": [
       "'Yes'"
      ]
     },
     "execution_count": 10,
     "metadata": {},
     "output_type": "execute_result"
    }
   ],
   "source": [
    "def f_prod_odd():\n",
    "    n=int(input(\"Enter the number of elements of the array: \"))\n",
    "    ls=[]\n",
    "    for i in range(n):\n",
    "        ls.append(int(input(\"Enter value \"+str(i+1)+\": \")))\n",
    "    for i in range(n):\n",
    "        for j in range(i+1,n):\n",
    "            if ((ls[i]*ls[j])%2==1 and ls[i]!=ls[j]):   # checks for both conditions: product odd and numbers distinct\n",
    "                return(\"Yes\")\n",
    "    else:\n",
    "        return(\"No\")\n",
    "    \n",
    "f_prod_odd()"
   ]
  },
  {
   "cell_type": "markdown",
   "metadata": {},
   "source": [
    "Q4\n",
    "Write a Python function that counts the number of vowels in a given character string."
   ]
  },
  {
   "cell_type": "code",
   "execution_count": 15,
   "metadata": {},
   "outputs": [
    {
     "name": "stdout",
     "output_type": "stream",
     "text": [
      "Enter a string: DEFEWVRREGRGsasaaa\n",
      "The number of vowels in  DEFEWVRREGRGsasaaa is 7\n"
     ]
    }
   ],
   "source": [
    "def vowel_count():\n",
    "    str1=input(\"Enter a string: \")\n",
    "    vowels=\"aeiouAEIOU\"\n",
    "    sum=0\n",
    "    for i in range(len(str1)):\n",
    "        if (str1[i] in vowels):\n",
    "            sum=sum+1\n",
    "    print(\"The number of vowels in \",str1,\"is\",sum)\n",
    "vowel_count()"
   ]
  },
  {
   "cell_type": "markdown",
   "metadata": {},
   "source": [
    "Q5\n",
    "Write a Python program that takes as input three integers, “a”, “b” and “c”, from the console and\n",
    "determines if they can be used in the following arithmetic formulas: (i) “a+b=c”, (ii) “a=b-c”, (iii) “a*b=c”.\n"
   ]
  },
  {
   "cell_type": "code",
   "execution_count": 1,
   "metadata": {},
   "outputs": [
    {
     "name": "stdout",
     "output_type": "stream",
     "text": [
      "Enter a: 0\n",
      "Enter b: 0\n",
      "Enter c: 0\n",
      "a+b=c\n",
      "a=b-c\n",
      "a*b=c\n"
     ]
    }
   ],
   "source": [
    "ls=[]\n",
    "t=0\n",
    "a=int(input(\"Enter a: \"))\n",
    "b=int(input(\"Enter b: \"))\n",
    "c=int(input(\"Enter c: \"))\n",
    "if (a+b==c):\n",
    "    print(\"a+b=c\")\n",
    "if (a==b-c):\n",
    "    print(\"a=b-c\")\n",
    "if (a*b==c):\n",
    "    print(\"a*b=c\")"
   ]
  },
  {
   "cell_type": "markdown",
   "metadata": {},
   "source": [
    "Q6 Design a program that can test the Birthday problem, by a series of experiments, on randomly generated\n",
    "birthdays which test this paradox for n = 5,10,15,20,25,30...200.\n",
    "\n"
   ]
  },
  {
   "cell_type": "code",
   "execution_count": 1,
   "metadata": {},
   "outputs": [
    {
     "name": "stdout",
     "output_type": "stream",
     "text": [
      "n =  5  Probabilty =  2.7 %\n",
      "n =  10  Probabilty =  12.15 %\n",
      "n =  15  Probabilty =  26.290000000000003 %\n",
      "n =  20  Probabilty =  41.14 %\n",
      "n =  25  Probabilty =  56.720000000000006 %\n",
      "n =  30  Probabilty =  70.53 %\n",
      "n =  35  Probabilty =  82.06 %\n",
      "n =  40  Probabilty =  89.75999999999999 %\n",
      "n =  45  Probabilty =  93.89999999999999 %\n",
      "n =  50  Probabilty =  97.57000000000001 %\n",
      "n =  55  Probabilty =  98.49 %\n",
      "n =  60  Probabilty =  99.45 %\n",
      "n =  65  Probabilty =  99.76 %\n",
      "n =  70  Probabilty =  99.96000000000001 %\n",
      "n =  75  Probabilty =  99.98 %\n",
      "n =  80  Probabilty =  99.98 %\n",
      "n =  85  Probabilty =  100.0 %\n",
      "n =  90  Probabilty =  100.0 %\n",
      "n =  95  Probabilty =  100.0 %\n",
      "n =  100  Probabilty =  100.0 %\n",
      "n =  105  Probabilty =  100.0 %\n",
      "n =  110  Probabilty =  100.0 %\n",
      "n =  115  Probabilty =  100.0 %\n",
      "n =  120  Probabilty =  100.0 %\n",
      "n =  125  Probabilty =  100.0 %\n",
      "n =  130  Probabilty =  100.0 %\n",
      "n =  135  Probabilty =  100.0 %\n",
      "n =  140  Probabilty =  100.0 %\n",
      "n =  145  Probabilty =  100.0 %\n",
      "n =  150  Probabilty =  100.0 %\n",
      "n =  155  Probabilty =  100.0 %\n",
      "n =  160  Probabilty =  100.0 %\n",
      "n =  165  Probabilty =  100.0 %\n",
      "n =  170  Probabilty =  100.0 %\n",
      "n =  175  Probabilty =  100.0 %\n",
      "n =  180  Probabilty =  100.0 %\n",
      "n =  185  Probabilty =  100.0 %\n",
      "n =  190  Probabilty =  100.0 %\n",
      "n =  195  Probabilty =  100.0 %\n",
      "n =  200  Probabilty =  100.0 %\n"
     ]
    },
    {
     "data": {
      "image/png": "[encoded data removed]",
      "text/plain": [
       "<Figure size 432x288 with 1 Axes>"
      ]
     },
     "metadata": {
      "needs_background": "light"
     },
     "output_type": "display_data"
    }
   ],
   "source": [
    "# The function random_date_generator() generates a random date in the format dd/mm \n",
    "def random_date_generator():\n",
    "    import random as rn\n",
    "    mm=rn.randint(1,12)\n",
    "    if (mm in [1,3,5,7,8,10,12]):\n",
    "        dd=rn.randint(1,31)\n",
    "    elif(mm==2):\n",
    "        dd=rn.randint(1,28)\n",
    "    else:\n",
    "        dd=rn.randint(1,30)\n",
    "    if(dd<10):\n",
    "        dd=\"0\"+str(dd)\n",
    "    if(mm<10):\n",
    "        mm =\"0\"+str(mm)\n",
    "    dd_mm=str(dd)+\"/\"+str(mm)\n",
    "    return dd_mm\n",
    "\n",
    "# The function probab_generator(n) generates an array(arr) of n dates and checks if there is atleast one common date\n",
    "# This is done n_iter(= a large value like 10000 or 100000) times to get the statistical probability \n",
    "def probab_generator(n):\n",
    "    sum=0\n",
    "    niter=10000\n",
    "    for i in range(niter):\n",
    "        arr=[]\n",
    "        for i in range(n):\n",
    "                arr.append(random_date_generator())\n",
    "        if(len(arr)!=len(set(arr))):               # checks if there is atleast one common element in arr\n",
    "            sum=sum+1                              # sum stores the number of times a common date occurs out of n_iter tests\n",
    "    return (sum/niter)*100                         # returns the statistical probability( in %)\n",
    "  \n",
    "# The function final() finds the probabilty for n=5,10,15...200 (which can be compared to original values in wikipedia)\n",
    "# and also plots a graph to show the variation\n",
    "#THE BELOW FN TAKES SOME TIME TO BE COMPUTED. REDUCE THE NUMBER OF ITERATIONS (niter) FOR FASTER(BUT LESS EFFICIENT) RESULTS\n",
    "def final():\n",
    "    import matplotlib.pyplot as plt\n",
    "    n_arr=[]\n",
    "    p_arr=[]\n",
    "    for n in range(5,201,5):\n",
    "        n_arr.append(n)\n",
    "        p_arr.append(probab_generator(n))\n",
    "        print(\"n = \",n,\" Probabilty = \",probab_generator(n),\"%\")\n",
    "    # plotting\n",
    "    plt.plot(n_arr,p_arr)\n",
    "    plt.ylabel('probability')\n",
    "    plt.xlabel('n value')\n",
    "    plt.axis([0, 200, 0,100])\n",
    "    plt.show()\n",
    "final()"
   ]
  },
  {
   "attachments": {
    "image.png": {
     "image/png": "[encoded data removed]"
    }
   },
   "cell_type": "markdown",
   "metadata": {},
   "source": [
    "ASSUMPTIONS TAKEN IN THE ABOVE PROBLEM:\n",
    "For simplicity, variations in the distribution, such as leap years, twins, seasonal, or weekday variations are disregarded(as taken usually for Birthday problem). This is because, for example, 29th February has less chance of occurence when compared to others because it occurs only on leap years. Such complexities are avoided in this computation.\n",
    "\n",
    "CONCLUSION:\n",
    "The data and the graph almost coincides with the calcuated data:\n",
    "(taken from wikipedia)\n",
    "![image.png](attachment:image.png)\n"
   ]
  },
  {
   "attachments": {
    "image.png": {
     "image/png": "[encoded data removed]"
    }
   },
   "cell_type": "markdown",
   "metadata": {},
   "source": [
    "![image.png](attachment:image.png)"
   ]
  },
  {
   "attachments": {
    "image.png": {
     "image/png": "[encoded data removed]"
    }
   },
   "cell_type": "markdown",
   "metadata": {},
   "source": [
    "![image.png](attachment:image.png)"
   ]
  }
 ],
 "metadata": {
  "kernelspec": {
   "display_name": "Python 3",
   "language": "python",
   "name": "python3"
  },
  "language_info": {
   "codemirror_mode": {
    "name": "ipython",
    "version": 3
   },
   "file_extension": ".py",
   "mimetype": "text/x-python",
   "name": "python",
   "nbconvert_exporter": "python",
   "pygments_lexer": "ipython3",
   "version": "3.7.6"
  }
 },
 "nbformat": 4,
 "nbformat_minor": 4
}
